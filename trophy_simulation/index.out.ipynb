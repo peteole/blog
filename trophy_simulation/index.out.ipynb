{
  "cells": [
    {
      "cell_type": "markdown",
      "metadata": {},
      "source": [
        "# Are you in the top 1% of brawl stars players?\n",
        "\n",
        "Dominik Moser, Ole Petersen\n",
        "\n",
        "Have you ever wondered how good you are at the game [Brawl\n",
        "Stars](https://supercell.com/en/games/brawlstars/)? Are you in the top\n",
        "1% of players? In this post, we will find out by simulating the game\n",
        "with a million players using [Julia](https://julialang.org/).\n",
        "\n",
        "## Our model\n",
        "\n",
        "Brawl stars is a multiplayer game. We will analyze the `3v3` game mode\n",
        "where two teams of three players each fight against each other. We are\n",
        "primarily interested in top players; therefore, we will assume that all\n",
        "brawlers are maxed out. The strength of a player is assumed to be soley\n",
        "determined by a single number, the skill level, which is constant over\n",
        "all games. Players have a trophy count for the brawler they play, which\n",
        "is changing over the rounds. We assume players are matched based on the\n",
        "trophy count of the brawler they play.\n",
        "\n",
        "We simplistically assume that the game is played in discrete global\n",
        "rounds. For each round, each player joins with a probability of\n",
        "`activity_level`, which is individual for each player. If a player has\n",
        "an activity level of $1$, they play in every round.\n",
        "\n",
        "This leaves us with the following model:"
      ],
      "id": "4fc4aca9-09c9-4408-bdec-071cc4c219b7"
    },
    {
      "cell_type": "code",
      "execution_count": 1,
      "metadata": {},
      "outputs": [],
      "source": [
        "using Distributions\n",
        "using Random\n",
        "\n",
        "mutable struct Player\n",
        "    trophies::Int\n",
        "    skill::Float64\n",
        "    activity::Float64\n",
        "    Player(skill_dist=Normal(0, 3),activity_dist=Uniform(0.2, 1)) = new(0, rand(skill_dist), rand(activity_dist))\n",
        "end"
      ],
      "id": "cell-2"
    },
    {
      "cell_type": "markdown",
      "metadata": {},
      "source": [
        "Here, we assume that the skill level of the players is distributed as\n",
        "$\\mathcal{N}(\\mu=0,\\sigma=3)$ and the activity level is distributed as\n",
        "$\\mathcal{U}(0.2,1)$.\n",
        "\n",
        "Consequently, the players that are active in a round are drawn as\n",
        "follows:"
      ],
      "id": "00ec99cd-1320-4b32-bc01-1d6336cbc6db"
    },
    {
      "cell_type": "code",
      "execution_count": 2,
      "metadata": {},
      "outputs": [],
      "source": [
        "function sample_players_in_round(players::Vector{Player})\n",
        "    mask = [rand(Bernoulli(p.activity)) for p in players]\n",
        "    return players[mask]\n",
        "end"
      ],
      "id": "cell-4"
    },
    {
      "cell_type": "markdown",
      "metadata": {},
      "source": [
        "Now, let us consider the outcome of a game. We assume that the strength\n",
        "of a team is the average skill of its players. If two teams with average\n",
        "skills $m_1$ and $m_2$ play against each other, we model the probability\n",
        "of team 1 winning as $$\n",
        "P(\\text{team 1 wins}) = \\frac{1}{1 + \\exp(m_2 - m_1)}.\n",
        "$$ This is implemented as follows:"
      ],
      "id": "3bd93fd3-6eed-4b37-821b-59234275dbf7"
    },
    {
      "cell_type": "code",
      "execution_count": 3,
      "metadata": {},
      "outputs": [],
      "source": [
        "function play(g1::AbstractVector{Player}, g2::AbstractVector{Player})\n",
        "    m1 = mean([p.skill for p in g1])\n",
        "    m2 = mean([p.skill for p in g2])\n",
        "    p_team_1_wins = 1 / (1 + exp(m2 - m1))\n",
        "    return rand(Bernoulli(p_team_1_wins))\n",
        "end"
      ],
      "id": "cell-6"
    },
    {
      "cell_type": "markdown",
      "metadata": {},
      "source": [
        "How are the players rewarded or penalized after a game? This data is\n",
        "publicly accesible:"
      ],
      "id": "b6f4f35a-11d0-4d72-9218-f20b78f2d5d9"
    },
    {
      "cell_type": "code",
      "execution_count": 4,
      "metadata": {},
      "outputs": [],
      "source": [],
      "id": "cell-8"
    },
    {
      "cell_type": "markdown",
      "metadata": {},
      "source": [
        "So now, let us write a function that returns the new trophy count of the\n",
        "players after a game. Since this is run billions of times, we\n",
        "pre-compute the result in bins of 50 trophies:"
      ],
      "id": "161eb0e2-9d48-4fed-82c4-5b3aefc9b32a"
    },
    {
      "cell_type": "code",
      "execution_count": 5,
      "metadata": {},
      "outputs": [
        {
          "output_type": "stream",
          "name": "stdout",
          "text": [
            "Trophy change at 543 trophies after a win: 8\n",
            "Trophy change at 543 trophies after a loss: -6"
          ]
        }
      ],
      "source": [
        "num_bins=1200÷50+1\n",
        "to_bin(trophies::Int)=1+min(trophies,1200) ÷ 50\n",
        "win_trophies_by_bin=zeros(Int,num_bins)\n",
        "loss_trophies_by_bin=zeros(Int,num_bins)\n",
        "for trophy in 0:50:1200\n",
        "    df_row=first(filter(row->row[1]<=trophy<=row[2],eachrow(trophy_changes)))\n",
        "    win_trophies_by_bin[to_bin(trophy)]=df_row[\"win trophy bonus\"]\n",
        "    loss_trophies_by_bin[to_bin(trophy)]=df_row[\"loss trophy penalty\"]\n",
        "end\n",
        "function get_trophy_change(trophies::Int, win::Bool)\n",
        "    trophy_bin = to_bin(trophies)\n",
        "    return win ? win_trophies_by_bin[trophy_bin] : loss_trophies_by_bin[trophy_bin]\n",
        "end\n",
        "@assert all(get_trophy_change.(trophy_changes[:,\"min trophies\"], true) .== trophy_changes[:,\"win trophy bonus\"])\n",
        "@assert all(get_trophy_change.(trophy_changes[:,\"min trophies\"], false) .== trophy_changes[:,\"loss trophy penalty\"])\n",
        "println(\"Trophy change at 543 trophies after a win: \", get_trophy_change(543, true))\n",
        "println(\"Trophy change at 543 trophies after a loss: \", get_trophy_change(543, false))"
      ],
      "id": "cell-10"
    },
    {
      "cell_type": "markdown",
      "metadata": {},
      "source": [
        "Next, let us implement a round of the game. We first get the active\n",
        "players in this round and sort them by their trophy cound. This allows\n",
        "us to pair the players with similar trophy levels: We split the list of\n",
        "active players in chunks of size `6=2*team_size`. Since the list is\n",
        "sorted, each group of 6 has a similar trophy count. We then permute the\n",
        "players in the group randomly and assign the first three to group 1 and\n",
        "the last three to group 2. The trophies of the players are then updated\n",
        "accordingly. Each group is executed in parallel using\n",
        "`Threads.@threads`:"
      ],
      "id": "feb11a26-6948-4507-86d9-4c069e823d60"
    },
    {
      "cell_type": "code",
      "execution_count": 6,
      "metadata": {},
      "outputs": [],
      "source": [
        "function step!(players::Vector{Player}, team_size::Int=3)\n",
        "    players_in_round = sample_players_in_round(players)\n",
        "    sorted_players = sort(players_in_round, by=p -> p.trophies)\n",
        "    permutation = randperm(2 * team_size)\n",
        "    Threads.@threads for i in 1:(2*team_size):(length(sorted_players)-2*team_size)\n",
        "        @views begin\n",
        "            shuffled_players = sorted_players[i:i+2*team_size-1][permutation]\n",
        "            team1 = shuffled_players[1:team_size]\n",
        "            team2 = shuffled_players[team_size+1:end]\n",
        "            @assert length(team1) == length(team2) == team_size\n",
        "            team1_wins = play(team1, team2)\n",
        "            for p in team1\n",
        "                p.trophies += get_trophy_change(p.trophies, team1_wins)\n",
        "            end\n",
        "            for p in team2\n",
        "                p.trophies += get_trophy_change(p.trophies, !team1_wins)\n",
        "            end\n",
        "        end\n",
        "    end\n",
        "end"
      ],
      "id": "cell-12"
    },
    {
      "cell_type": "markdown",
      "metadata": {},
      "source": [
        "Now, let us simulate a few rounds of the game:"
      ],
      "id": "a5c83db7-6ed7-4525-9b4d-fdf91273a308"
    },
    {
      "cell_type": "code",
      "execution_count": 7,
      "metadata": {},
      "outputs": [],
      "source": [
        "num_players = 1000000\n",
        "num_rounds = 1000\n",
        "players = [Player() for i in 1:num_players]\n",
        "for round in 1:num_rounds\n",
        "    step!(players)\n",
        "end"
      ],
      "id": "cell-14"
    },
    {
      "cell_type": "markdown",
      "metadata": {},
      "source": [
        "First, we would like to find out the correlation between the skill level\n",
        "and the trophy count.\n",
        "<a href=\"#fig-skills-vs-trophies\" class=\"quarto-xref\">Figure 1</a> shows\n",
        "the result of a simulation with 1 million players. It is visible that a\n",
        "higher skill level is clearly correlated with a higher trophy count."
      ],
      "id": "72c3e51c-9c8f-4272-b5d4-5a4c15dbab50"
    },
    {
      "cell_type": "code",
      "execution_count": 8,
      "metadata": {},
      "outputs": [],
      "source": [
        "using Plots\n",
        "players_to_plot = players[1:1000]\n",
        "scatter([p.skill for p in players_to_plot], [p.trophies for p in players_to_plot], label=\"Skill vs Trophies\", xlabel=\"Skill\", ylabel=\"Trophies\", title=\"Skill vs Trophies\",alpha=0.3, legend=false)"
      ],
      "id": "cell-fig-skills-vs-trophies"
    },
    {
      "cell_type": "markdown",
      "metadata": {},
      "source": [
        "Next, let us find out what we are interested in: the top 1% of players.\n",
        "To do so, we sort the players by their trophy count and plot how many\n",
        "players have more than a certain number of trophies in\n",
        "<a href=\"#fig-trophies-cdf\" class=\"quarto-xref\">Figure 2</a>."
      ],
      "id": "c11d5c57-9ebe-41d0-86c0-1b6f26b9e748"
    },
    {
      "cell_type": "code",
      "execution_count": 9,
      "metadata": {},
      "outputs": [],
      "source": [
        "trophies=[p.trophies for p in players]\n",
        "trophies=sort(trophies)\n",
        "percent_better=1.0 .- (1:num_players) ./num_players\n",
        "plot(trophies[1:100:end-1], percent_better[1:100:end-1], label=\"Trophies\", xlabel=\"Trophies\", ylabel=\"Percentile\", yscale=:log10, xlims=(600,maximum(trophies)),yminorgrid=true, legend=false)"
      ],
      "id": "cell-fig-trophies-cdf"
    },
    {
      "cell_type": "markdown",
      "metadata": {},
      "source": [
        "In the following table you can see that you need 864 trophies to be in\n",
        "the top 1% of players:"
      ],
      "id": "1d50a03d-2841-4f66-8903-2b0a1d996ca2"
    },
    {
      "cell_type": "code",
      "execution_count": 10,
      "metadata": {},
      "outputs": [],
      "source": [
        "percentiles_to_list=[10,5,2,1,0.1,0.01,0.001]\n",
        "indices=[ceil(Int,(1-percentile/100)*num_players) for percentile in percentiles_to_list]\n",
        "trophies_at_percentiles=trophies[indices]\n",
        "df=DataFrame(\"Percentile (%)\"=>percentiles_to_list,\"Trophies\"=>trophies_at_percentiles)\n",
        "markdown_table(df)"
      ],
      "id": "cell-20"
    },
    {
      "cell_type": "markdown",
      "metadata": {},
      "source": [
        "Next, let us test how this curve depends on the number of players.\n",
        "<a href=\"#fig-trophies-cdf-players\" class=\"quarto-xref\">Figure 3</a>\n",
        "shows an interesting result: If there are more players in the game, it\n",
        "is easier to be in the top few players of the game. For the bulk of the\n",
        "players, the number of players does not really matter for the relative\n",
        "position. Based on [this](https://activeplayer.io/brawl-stars/), brawl\n",
        "stars has around a million daily active players, so the initial plot is\n",
        "the most relevant."
      ],
      "id": "133ac24a-7895-43c8-9838-51dfda97f301"
    },
    {
      "cell_type": "code",
      "execution_count": 11,
      "metadata": {
        "fig-format": "png"
      },
      "outputs": [],
      "source": [
        "p=plot(xlabel=\"Trophies\", ylabel=\"Percentile\", yscale=:log10, yminorgrid=true)\n",
        "num_rounds=1000\n",
        "for num_players in [100,1000, 10000, 100000, 1000000]\n",
        "    players = [Player() for i in 1:num_players]\n",
        "    for round in 1:num_rounds\n",
        "        step!(players)\n",
        "    end\n",
        "    trophies=[p.trophies for p in players]\n",
        "    trophies=sort(trophies)\n",
        "    percent_better=1.0 .- (1:num_players) ./num_players\n",
        "    num_points_to_plot=10000\n",
        "    step=ceil(Int,num_players/num_points_to_plot)\n",
        "    plot!(p,trophies[1:step:end-1], percent_better[1:step:end-1], label=\"$num_players players\", xlims=(600,maximum(trophies)))\n",
        "end\n",
        "display(p)"
      ],
      "id": "cell-fig-trophies-cdf-players"
    },
    {
      "cell_type": "markdown",
      "metadata": {},
      "source": [
        "Next, let us find out how the curve depends on the standard deviations\n",
        "of the skill level. This model parameter is crucial since the formula\n",
        "for the probability of winning a game depends on the average skill level\n",
        "of the team members: $$\n",
        "P(\\text{team 1 wins}) = \\frac{1}{1 + \\exp(m_2 - m_1)}.\n",
        "$$ The standard deviation controls how likely the best players win\n",
        "against the worst players. Let us see how likely the top 5% of players\n",
        "win against the bottom 5% of players for different standard deviations,\n",
        "as depicted in <a href=\"#fig-win-probability-top-vs-bottom\"\n",
        "class=\"quarto-xref\">Figure 4</a>."
      ],
      "id": "42abf1a1-dd5b-4e5e-a2ec-bb1924b0f637"
    },
    {
      "cell_type": "code",
      "execution_count": 12,
      "metadata": {},
      "outputs": [],
      "source": [
        "# The top 5% of players have a skill of 2 standard deviations above the mean, while the bottom 5% have a skill of 2 standard deviations below the mean\n",
        "p_win(std) = 1 / (1 + exp(-2*std+(-2*std)))\n",
        "stds=0:0.1:3\n",
        "plot(stds, p_win.(stds), label=\"Win probability of top 5% vs bottom 5%\", xlabel=\"Skill standard deviation\", ylabel=\"Win probability\", title=\"Win probability of top 5% vs bottom 5% of players\", legend=false)"
      ],
      "id": "cell-fig-win-probability-top-vs-bottom"
    },
    {
      "cell_type": "markdown",
      "metadata": {},
      "source": [
        "Running the simulation with different standard deviations shows that its\n",
        "influence is surprisingly minimal, as shown in\n",
        "<a href=\"#fig-trophies-cdf-variance\" class=\"quarto-xref\">Figure 5</a>.\n",
        "The curves are almost identical except for very high trophy counts. This\n",
        "means our result is robust against changes in this somehow arbitrary\n",
        "parameter."
      ],
      "id": "1f03345b-99f7-4d67-a379-8a65bc4e25c5"
    },
    {
      "cell_type": "code",
      "execution_count": 13,
      "metadata": {},
      "outputs": [],
      "source": [
        "p=plot(xlabel=\"Trophies\", ylabel=\"Percentile\", yscale=:log10, yminorgrid=true)\n",
        "num_players=10000\n",
        "num_rounds=1000\n",
        "for std in [0.05, 0.1, 0.2, 0.5, 1, 2,4]\n",
        "    players = [Player(Normal(0,std)) for i in 1:num_players]\n",
        "    for round in 1:num_rounds\n",
        "        step!(players)\n",
        "    end\n",
        "    trophies=[p.trophies for p in players]\n",
        "    trophies=sort(trophies)\n",
        "    percent_better=1.0 .- (1:num_players) ./num_players\n",
        "    plot!(p,trophies[1:50:end-1], percent_better[1:50:end-1], label=\"skill std: $std\", xlims=(600,maximum(trophies)))\n",
        "end\n",
        "display(p)"
      ],
      "id": "cell-fig-trophies-cdf-variance"
    },
    {
      "cell_type": "markdown",
      "metadata": {},
      "source": [
        "Finally, we find in\n",
        "<a href=\"#fig-active-vs-trophies\" class=\"quarto-xref\">Figure 6</a> that\n",
        "playing more actively does not influence the trophy count significantly."
      ],
      "id": "9285656c-aaef-4ab8-bb09-c058e0fa2f4a"
    },
    {
      "cell_type": "code",
      "execution_count": 14,
      "metadata": {},
      "outputs": [],
      "source": [
        "players_to_plot = players[1:2000]\n",
        "scatter([p.activity for p in players_to_plot], [p.trophies for p in players_to_plot], label=\"Activity vs Trophies\", xlabel=\"Activity\", ylabel=\"Trophies\", title=\"Activity vs Trophies\", alpha=0.3)"
      ],
      "id": "cell-fig-active-vs-trophies"
    },
    {
      "cell_type": "markdown",
      "metadata": {},
      "source": [
        "To conclude, we found that you need 864 trophies to be in the top 1% of\n",
        "players in Brawl Stars. This result is robust against changes in the\n",
        "standard deviation of the skill level and the activity level of the\n",
        "players. We hope you enjoyed this post and learned something new about\n",
        "Brawl Stars! And remember, it is just a game; playing too much does not\n",
        "help in our simulation."
      ],
      "id": "aedd5b68-dccc-40d4-82b7-04d5bbca1cfa"
    }
  ],
  "nbformat": 4,
  "nbformat_minor": 5,
  "metadata": {
    "kernelspec": {
      "name": "julia-1.10",
      "display_name": "Julia 1.10.3",
      "language": "julia"
    },
    "language_info": {
      "name": "julia",
      "file_extension": ".jl",
      "mimetype": "application/julia",
      "version": "1.10.3"
    }
  }
}