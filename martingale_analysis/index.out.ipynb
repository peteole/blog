{
  "cells": [
    {
      "cell_type": "markdown",
      "metadata": {},
      "source": [
        "# Simulating the Martingale Betting System\n",
        "\n",
        "Ole Petersen\n",
        "\n",
        "Imagine you are in a casino with your best friend and your life savings,\n",
        "playing roulette. Your friend has an awesome idea: “Let’s always bet on\n",
        "red, so we win with a 50% chance in each round. If we lose, we double\n",
        "our bet in the next round until we win. Once we win, we have made back\n",
        "all our losses and we start over with our initial bet. We can’t lose!”\n",
        "\n",
        "You are a bit skeptical. In every step, you have an equal chance of\n",
        "doubling your bet or losing it, so in expectation, your wealth should\n",
        "stay constant, right? But what’s the flaw in your friend’s argument?\n",
        "\n",
        "Let’s simulate the betting strategy and see what happens. You don’t want\n",
        "to lose it all, so you start with 100\\$ and begin with the smallest\n",
        "possible bet of 1\\$. This is done for up to 1000 rounds. If you cannot\n",
        "afford the bet anymore, you leave with what is left, dropping out of the\n",
        "game. This logic is also called the [Martingale betting\n",
        "system](https://en.wikipedia.org/wiki/Martingale_(betting_system)), and\n",
        "it can be implemented as follows:"
      ],
      "id": "41cf397b-39e3-4e2f-912c-6905311a7b5b"
    },
    {
      "cell_type": "code",
      "execution_count": 1,
      "metadata": {},
      "outputs": [],
      "source": [
        "function simulate(initial_money,minimum_bet,rounds)\n",
        "    money_by_round = zeros(rounds)\n",
        "    money = initial_money\n",
        "    bet=minimum_bet\n",
        "    for i in 1:rounds\n",
        "        if money < bet\n",
        "            money_by_round[i:end] .= money\n",
        "            break\n",
        "        end\n",
        "        money_by_round[i] = money\n",
        "        money -= bet\n",
        "        if rand() < 0.5\n",
        "            # win\n",
        "            money += 2*bet\n",
        "            bet = minimum_bet\n",
        "        else\n",
        "            # lose\n",
        "            bet *= 2\n",
        "        end\n",
        "    end\n",
        "    return money_by_round\n",
        "end"
      ],
      "id": "cell-2"
    },
    {
      "cell_type": "markdown",
      "metadata": {},
      "source": [
        "We simulate the gameplay 10000 times:"
      ],
      "id": "e4e1f223-e19d-4f4b-a32f-c3fed0db8023"
    },
    {
      "cell_type": "code",
      "execution_count": 2,
      "metadata": {},
      "outputs": [],
      "source": [
        "num_simulations = 10000\n",
        "initial_money = 100\n",
        "minimum_bet = 1\n",
        "rounds = 1000\n",
        "simulations = [simulate(initial_money,minimum_bet,rounds) for i in 1:num_simulations]"
      ],
      "id": "cell-4"
    },
    {
      "cell_type": "markdown",
      "metadata": {},
      "source": [
        "Let us analyze the results. First, we plot a histogram of the wealth of\n",
        "the player in different rounds in\n",
        "<a href=\"#fig-histograms\" class=\"quarto-xref\">Figure 1</a>. As we can\n",
        "see, in the second round, we win and lose equally often, leaving us at\n",
        "+1 or -1 equally likely. However, starting from round 10, a surprising\n",
        "pattern emerges. In most cases, the net outcome is positive (\\>100\\$).\n",
        "However, rarely, we lose most of our money (recall that we stop playing\n",
        "once we cannot use our system anymore). Towards the end, the outcomes\n",
        "become more and more extreme. We are very likely to drop out, but if we\n",
        "don’t, we are very likely to have increased our wealth by a factor of 6."
      ],
      "id": "2374f57d-888c-44ea-b077-e790c8503898"
    },
    {
      "cell_type": "code",
      "execution_count": 4,
      "metadata": {},
      "outputs": [],
      "source": [],
      "id": "cell-fig-histograms"
    },
    {
      "cell_type": "markdown",
      "metadata": {},
      "source": [
        "Having understood the probability distributions of the game outcomes, we\n",
        "can now calculate some higher-level statistics. We measure\n",
        "\n",
        "-   the mean wealth to find out if we can make money in expectation with\n",
        "    this strategy\n",
        "-   the median wealth to find out how a typical player would fare\n",
        "\n",
        "<a href=\"#fig-median-mean\" class=\"quarto-xref\">Figure 2</a> shows that\n",
        "the mean wealth stays constant, confirming our initial intuition that\n",
        "this cannot make money. However, the median wealth increases by more\n",
        "than 40% in round 100, and then drops to just 50% of our initial\n",
        "starting value. This is surprising, in the first 100 rounds we are\n",
        "likely to make a significant profit!"
      ],
      "id": "80a4abbf-daf2-487e-9f60-08f2adfe2f03"
    },
    {
      "cell_type": "code",
      "execution_count": 5,
      "metadata": {},
      "outputs": [],
      "source": [],
      "id": "cell-fig-median-mean"
    },
    {
      "cell_type": "markdown",
      "metadata": {},
      "source": [
        "Finally, we will investigate the probability of being net positive at\n",
        "different stages of the game in\n",
        "<a href=\"#fig-profit-probability\" class=\"quarto-xref\">Figure 3</a>. And\n",
        "indeed, after a few rounds, we are almost certain to have made a profit.\n",
        "However, later on, we most likely lose money. So next time you are in a\n",
        "casino, you can use Martingale to go out net positive very likely, but\n",
        "be prepared to lose most of it if you stay too long."
      ],
      "id": "722636fd-939d-4629-ba86-fa2cd9575b71"
    },
    {
      "cell_type": "code",
      "execution_count": 6,
      "metadata": {},
      "outputs": [],
      "source": [],
      "id": "cell-fig-profit-probability"
    }
  ],
  "nbformat": 4,
  "nbformat_minor": 5,
  "metadata": {
    "kernelspec": {
      "name": "julia-1.9",
      "display_name": "Julia 1.9.4",
      "language": "julia"
    },
    "language_info": {
      "name": "julia",
      "file_extension": ".jl",
      "mimetype": "application/julia",
      "version": "1.9.4"
    }
  }
}